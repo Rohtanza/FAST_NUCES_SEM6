{
  "nbformat": 4,
  "nbformat_minor": 0,
  "metadata": {
    "colab": {
      "provenance": []
    },
    "kernelspec": {
      "name": "python3",
      "display_name": "Python 3"
    },
    "language_info": {
      "name": "python"
    }
  },
  "cells": [
    {
      "cell_type": "code",
      "execution_count": null,
      "metadata": {
        "id": "QE_noP1pX4Yq"
      },
      "outputs": [],
      "source": []
    },
    {
      "cell_type": "markdown",
      "source": [
        "# CN Lab 01 - 28 Jan 2025\n",
        "## Muhammad Rehan\n",
        "## Roll No: 22P-9106 | BSE-6A\n",
        "\n"
      ],
      "metadata": {
        "id": "-9e7IikxX_gW"
      }
    },
    {
      "cell_type": "markdown",
      "source": [
        "\n",
        "#### ===========================================\n",
        "#### Exercise 1: Reverse String\n",
        "#### ==========================================="
      ],
      "metadata": {
        "id": "BRpYPDIGYcTd"
      }
    },
    {
      "cell_type": "code",
      "source": [
        "# this method is to reverse a string in place\n",
        "def reverseString(string):\n",
        "    \"\"\"\n",
        "    reversing the input chars while them being in them place\n",
        "    \"\"\"\n",
        "\n",
        "    # pointers to the start and end of the chars\n",
        "    leftPtr, rightPtr = 0, len(string) - 1\n",
        "    while leftPtr < rightPtr:\n",
        "        # swaping the chars at left and right pts\n",
        "        string[leftPtr], string[rightPtr] = string[rightPtr], string[leftPtr]\n",
        "        leftPtr += 1\n",
        "        rightPtr -= 1\n",
        "\n",
        "\n",
        "# sample of the code\n",
        "inputString = [\"r\", \"e\", \"h\", \"a\", \"n\"]\n",
        "reverseString(inputString)\n",
        "print(inputString)"
      ],
      "metadata": {
        "colab": {
          "base_uri": "https://localhost:8080/"
        },
        "id": "uQvLCCqcYVH_",
        "outputId": "2eac0d60-e311-46a1-d1d3-3db83f92d380"
      },
      "execution_count": 1,
      "outputs": [
        {
          "output_type": "stream",
          "name": "stdout",
          "text": [
            "['n', 'a', 'h', 'e', 'r']\n"
          ]
        }
      ]
    },
    {
      "cell_type": "markdown",
      "source": [
        "#### ===========================================\n",
        "#### Exercise 2: Valid Palindrome\n",
        "#### ===========================================\n",
        "\n"
      ],
      "metadata": {
        "id": "HTohJcJzYYWN"
      }
    },
    {
      "cell_type": "code",
      "source": [
        "# the method to check if a string is palindrome or not?\n",
        "def isPalindrome(string):\n",
        "    \"\"\"\n",
        "    checking if the input string is palindrome or not?\n",
        "    this function doesn't care for non-alphanumeric chars and case sensitivity\n",
        "    \"\"\"\n",
        "    # refine the string for the alphanumeric chars and converting it to the lowercase\n",
        "    refinedString = [char.lower() for char in string if char.isalnum()]\n",
        "    # a clever way to check if the string reads the same forward and backward both sides\n",
        "    return refinedString == refinedString[::-1]\n",
        "\n",
        "inputOne = \"Was it a car or a cat I saw\"\n",
        "inputTwo = \"race a car\"\n",
        "print(isPalindrome(inputOne))\n",
        "print(isPalindrome(inputTwo))\n"
      ],
      "metadata": {
        "colab": {
          "base_uri": "https://localhost:8080/"
        },
        "id": "JywrYZTIYt8U",
        "outputId": "0e3ccdef-5167-4cc7-c7ac-dd0554f7d1ef"
      },
      "execution_count": 4,
      "outputs": [
        {
          "output_type": "stream",
          "name": "stdout",
          "text": [
            "True\n",
            "False\n"
          ]
        }
      ]
    },
    {
      "cell_type": "markdown",
      "source": [
        "#### ===========================================\n",
        "#### Exercise 3: Unique List\n",
        "#### ==========================================="
      ],
      "metadata": {
        "id": "eqnybrjhZnuA"
      }
    },
    {
      "cell_type": "code",
      "source": [
        "# the method to remove same entries and return a unique string\n",
        "def uniqueList(input):\n",
        "    \"\"\"\n",
        "    removing all the same from the list keeping the exact order\n",
        "    \"\"\"\n",
        "    # to keep track of checked entries\n",
        "    checked = set()\n",
        "    # To keep unique entries in order\n",
        "    unique = []\n",
        "    for num in input:\n",
        "        if num not in checked:\n",
        "            unique.append(num)\n",
        "            # adding the num to the set\n",
        "            checked.add(num)\n",
        "    return unique\n",
        "\n",
        "inputOne = [1, 2, 3, 4, 5, 6, 6, 1, 5]\n",
        "inputTwo = [1, 4, 1, 1, 5]\n",
        "print(uniqueList(inputOne))\n",
        "print(uniqueList(inputTwo))\n"
      ],
      "metadata": {
        "colab": {
          "base_uri": "https://localhost:8080/"
        },
        "id": "yFvELDQoZvA1",
        "outputId": "26b59517-8fd8-45b2-d0f7-10a2abefa1f5"
      },
      "execution_count": 3,
      "outputs": [
        {
          "output_type": "stream",
          "name": "stdout",
          "text": [
            "[1, 2, 3, 4, 5, 6]\n",
            "[1, 4, 5]\n"
          ]
        }
      ]
    }
  ]
}